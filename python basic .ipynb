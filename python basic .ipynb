{
 "cells": [
  {
   "cell_type": "markdown",
   "id": "b9a89954",
   "metadata": {},
   "source": [
    "# python learning with microsoft didi"
   ]
  },
  {
   "cell_type": "code",
   "execution_count": 2,
   "id": "fb84e1fc",
   "metadata": {},
   "outputs": [
    {
     "name": "stdout",
     "output_type": "stream",
     "text": [
      "enter name: abhishek\n",
      "<class 'str'> abhishek\n"
     ]
    }
   ],
   "source": [
    "#type casting\n",
    "#input in python\n",
    "#input()statement is used to accept value \n",
    "#inpul value is always str\n",
    "name=input(\"enter name: \")\n",
    "#type of element \n",
    "print(type(name),name)\n",
    "\n",
    "#int value provide to input\n",
    "name=int(input(\"enter name: \"))"
   ]
  },
  {
   "cell_type": "code",
   "execution_count": 3,
   "id": "16cf4329",
   "metadata": {},
   "outputs": [
    {
     "name": "stdout",
     "output_type": "stream",
     "text": [
      "enter frist number: 5\n",
      "enter second number: 7\n",
      "this is a sum 12\n"
     ]
    }
   ],
   "source": [
    "a=int(input(\"enter frist number: \"))\n",
    "b=int(input(\"enter second number: \"))\n",
    "c=a+b\n",
    "print(\"this is a sum\",c)"
   ]
  },
  {
   "cell_type": "code",
   "execution_count": 6,
   "id": "2e9a81c9",
   "metadata": {},
   "outputs": [
    {
     "name": "stdout",
     "output_type": "stream",
     "text": [
      "enter side: 9\n",
      "area is 81\n"
     ]
    }
   ],
   "source": [
    "#wap to input side of a squre and print its area\n",
    "side=int(input(\"enter side: \"))\n",
    "area=(side*side)\n",
    "print(\"area is\",area)"
   ]
  },
  {
   "cell_type": "code",
   "execution_count": 7,
   "id": "ebe40d69",
   "metadata": {},
   "outputs": [
    {
     "name": "stdout",
     "output_type": "stream",
     "text": [
      "enter frist number: 7\n",
      "enter second number: 8\n",
      "area is 7.5\n"
     ]
    }
   ],
   "source": [
    "#wap to input 2 floating point number & print thaeir avarage\n",
    "a=float(input(\"enter frist number: \"))\n",
    "b=float(input(\"enter second number: \"))\n",
    "avarge=(a+b)/2\n",
    "print(\"area is\",avarge)"
   ]
  },
  {
   "cell_type": "code",
   "execution_count": 8,
   "id": "1c1b0254",
   "metadata": {},
   "outputs": [
    {
     "name": "stdout",
     "output_type": "stream",
     "text": [
      "enter frist number: 8\n",
      "enter second number: 9\n",
      "False\n"
     ]
    }
   ],
   "source": [
    "#wap to input 2 int number aand b.\n",
    "#print true if is a is grather than or eual to b.if not print false.\n",
    "a=int(input(\"enter frist number: \"))\n",
    "b=int(input(\"enter second number: \"))\n",
    "print(a>=b)"
   ]
  },
  {
   "cell_type": "markdown",
   "id": "4b75b342",
   "metadata": {},
   "source": [
    "# chapter 2\n",
    "#string and conditional statement"
   ]
  },
  {
   "cell_type": "code",
   "execution_count": 12,
   "id": "11347330",
   "metadata": {},
   "outputs": [
    {
     "name": "stdout",
     "output_type": "stream",
     "text": [
      "this is a string .\n",
      "you know taht\n",
      "this is\n",
      " the\n"
     ]
    }
   ],
   "source": [
    "#strings\n",
    "#string is data type that store a seqence of characters\n",
    "#basic operation\n",
    "str1=\"this is a string .\\nyou know taht\"#\\n use tonext line\n",
    "str2='this is'\n",
    "str3=\"\"\" the\"\"\"\n",
    "print(str1)\n",
    "print(str2)\n",
    "print(str3)"
   ]
  },
  {
   "cell_type": "code",
   "execution_count": 19,
   "id": "0cb05cc1",
   "metadata": {},
   "outputs": [
    {
     "name": "stdout",
     "output_type": "stream",
     "text": [
      "abhishek\n",
      "4\n",
      "abhihek havale\n",
      "14\n"
     ]
    }
   ],
   "source": [
    "#concatenition\n",
    "str2=\"abhi\"\n",
    "str3=\"shek\"\n",
    "final_string=str2+str3\n",
    "print(final_string)\n",
    "#length of str\n",
    "#len(str)\n",
    "#in length spaces also calulates.\n",
    "str2=\"abhi\"\n",
    "len1=len(str2)\n",
    "print(len1)\n",
    "\n",
    "\n",
    "str2=\"abhihek\"\n",
    "str3=\"havale\"\n",
    "final_string=str2+\" \"+str3\n",
    "print(final_string)\n",
    "print(len(final_string))"
   ]
  },
  {
   "cell_type": "code",
   "execution_count": 20,
   "id": "ded2f69f",
   "metadata": {},
   "outputs": [
    {
     "name": "stdout",
     "output_type": "stream",
     "text": [
      "A\n"
     ]
    }
   ],
   "source": [
    "#indexing\n",
    "#index means given definite position number eg-\n",
    "# ABHISHEK\n",
    "# 01234567\n",
    "str=\"Abhishek havale\"\n",
    "ch=str[0]\n",
    "print(ch)"
   ]
  },
  {
   "cell_type": "code",
   "execution_count": 24,
   "id": "e37506fb",
   "metadata": {},
   "outputs": [
    {
     "name": "stdout",
     "output_type": "stream",
     "text": [
      "bhis\n",
      "bhishek havale\n",
      "bhishek havale\n",
      "hav\n"
     ]
    }
   ],
   "source": [
    "#slicing\n",
    "#accending part of string\n",
    "str= \"abhishek havale\"\n",
    "ch=str[1:5]\n",
    "print(ch)\n",
    "str= \"abhishek havale\"\n",
    "ch=str[1:]\n",
    "print(ch)\n",
    "str= \"abhishek havale\"\n",
    "ch=str[1:len(str)]\n",
    "print(ch)\n",
    "#negative index\n",
    "str= \"abhishek havale\"\n",
    "ch=str[-6:-3]\n",
    "print(ch)"
   ]
  },
  {
   "cell_type": "code",
   "execution_count": 32,
   "id": "89af71cb",
   "metadata": {},
   "outputs": [
    {
     "name": "stdout",
     "output_type": "stream",
     "text": [
      "3\n"
     ]
    }
   ],
   "source": [
    "#string function\n",
    "str=\"i am a coder with abhishek\"\n",
    "print(str.count(\"a\"))\n",
    "\n",
    "    "
   ]
  },
  {
   "cell_type": "code",
   "execution_count": 35,
   "id": "2854bfce",
   "metadata": {},
   "outputs": [
    {
     "name": "stdout",
     "output_type": "stream",
     "text": [
      "go\n",
      "end of single\n"
     ]
    }
   ],
   "source": [
    "#conditional statement\n",
    "#if-elif-else synatx\n",
    "#if(condition)\n",
    "   #statement\n",
    "#\n",
    "\n",
    "light=\"green\"\n",
    "if(light==\"red\"):\n",
    "    print(\"stop\")\n",
    "    \n",
    "elif(light==\"green\"):\n",
    "    print(\"go\")\n",
    "elif(light==\"yellow\"):\n",
    "    print(\"look\")\n",
    "print(\"end of single\")"
   ]
  },
  {
   "cell_type": "markdown",
   "id": "4f2dc435",
   "metadata": {},
   "source": [
    "# CHAPTER 3\n",
    "TUPLE AND LIST"
   ]
  },
  {
   "cell_type": "code",
   "execution_count": 1,
   "id": "fa1b61b8",
   "metadata": {},
   "outputs": [],
   "source": [
    "#LIST= BILD IN DATA TYPE THAT STORESET OF VALUES[] \n",
    "# IT CAN STORE ELEMENT OF DIFFERENT TYPE (INTEGER,FLOAT,STIRNG,ETC)\n",
    "\n",
    "#for multiline comment use ctrl+/ to selct it.\n",
    "\n",
    "# marks1=87.7\n",
    "# marks2=67\n",
    "# marks3=56\n",
    "# marks4=89.0\n",
    "# marks5=79.87\n"
   ]
  },
  {
   "cell_type": "code",
   "execution_count": 5,
   "id": "f7e42273",
   "metadata": {},
   "outputs": [
    {
     "name": "stdout",
     "output_type": "stream",
     "text": [
      "None\n",
      "[2, 3, 4, 9]\n",
      "[2, 3, 4, 9, 5]\n"
     ]
    }
   ],
   "source": [
    "list=[2,3,4,9]\n",
    "#list=[\"banana\",\"apple\",\"mango\",\"orange\"]\n",
    "print(list.sort(reverse=True))\n",
    "list.reverse()\n",
    "print(list)\n",
    "list.insert(9,5)\n",
    "print(list)"
   ]
  },
  {
   "cell_type": "code",
   "execution_count": 11,
   "id": "8d97eb33",
   "metadata": {},
   "outputs": [
    {
     "name": "stdout",
     "output_type": "stream",
     "text": [
      "<class 'tuple'>\n"
     ]
    }
   ],
   "source": [
    "#tuple in Python\n",
    "# a build in datatype that lets us create immutable sequence of value\n",
    "# tup=(87,23,34,56,76)separate in coma for ex\n",
    "#tup=(1,)\n",
    "tup=(87,23,34,56,76)\n",
    "print(type(tup))"
   ]
  },
  {
   "cell_type": "code",
   "execution_count": 14,
   "id": "f3374ee1",
   "metadata": {},
   "outputs": [
    {
     "name": "stdout",
     "output_type": "stream",
     "text": [
      "0\n",
      "2\n"
     ]
    }
   ],
   "source": [
    "#tuple method\n",
    "tup=(3,2,2,7,8)\n",
    "print(tup.index(3))\n",
    "print(tup.count(2))"
   ]
  },
  {
   "cell_type": "code",
   "execution_count": 15,
   "id": "49740b73",
   "metadata": {},
   "outputs": [
    {
     "name": "stdout",
     "output_type": "stream",
     "text": [
      "enter 1st movie:prathamesh\n",
      "enter 1st movie:abhi\n",
      "enter 1st movie:anish\n",
      "['prathamesh', 'abhi', 'anish']\n"
     ]
    }
   ],
   "source": [
    "#wap to ask the user to enter names of their 3 favorite movie and store them in a list\n",
    "#list=[\"chacha\",\"tiger\",\"fighter\"]\n",
    "movies=[]\n",
    "mo1=input(\"enter 1st movie:\")\n",
    "mo2=input(\"enter 1st movie:\")\n",
    "mo3=input(\"enter 1st movie:\")\n",
    "movies.append(mo1)\n",
    "movies.append(mo2)\n",
    "movies.append(mo3)\n",
    "print(movies)"
   ]
  },
  {
   "cell_type": "markdown",
   "id": "4732ee63",
   "metadata": {},
   "source": [
    "# Chapter 4\n",
    "Dictionary & Sets"
   ]
  },
  {
   "cell_type": "code",
   "execution_count": null,
   "id": "a170e6bf",
   "metadata": {},
   "outputs": [],
   "source": [
    "#dictionaries are used to store data values in key:values pairs \n",
    "they are unorderd,mutable(changable)&donts allow duplicate keys\n",
    "dict={\n",
    "    \"name\":\"abhi\",\n",
    "    \"cgpa\":9.7,\n",
    "    \"marks\":[67,99,89]\n",
    "}"
   ]
  },
  {
   "cell_type": "code",
   "execution_count": 4,
   "id": "c9b2bd7d",
   "metadata": {},
   "outputs": [
    {
     "name": "stdout",
     "output_type": "stream",
     "text": [
      "{'key': 'value', 'name': ['abhishek havale', 'prathamesh', 'nihal'], 'leraning': 'coding', 'age': 24}\n"
     ]
    }
   ],
   "source": [
    "info={\n",
    " \"key\":\"value\",\n",
    "    \"name\":\"abhishek havale\",\n",
    "    \"leraning\":\"coding\",\n",
    "    \"age\":24,\n",
    "    \"name\":[\"abhishek havale\",\"prathamesh\",\"nihal\"],#using list as we as using tuple\n",
    "}\n",
    "print(info)"
   ]
  },
  {
   "cell_type": "code",
   "execution_count": 2,
   "id": "cbb8fecc",
   "metadata": {},
   "outputs": [
    {
     "name": "stdout",
     "output_type": "stream",
     "text": [
      "<class 'dict'>\n"
     ]
    }
   ],
   "source": [
    "print(type(info))"
   ]
  },
  {
   "cell_type": "code",
   "execution_count": 13,
   "id": "a617af8b",
   "metadata": {},
   "outputs": [
    {
     "name": "stdout",
     "output_type": "stream",
     "text": [
      "abhishek havale\n",
      "24\n",
      "havals\n",
      "{'key': 'value', 'name': 'abhishek havale', 'leraning': 'coding', 'age': 24, 'surname': 'havals'}\n"
     ]
    }
   ],
   "source": [
    "info={\n",
    " \"key\":\"value\",\n",
    "    \"name\":\"abhishek havale\",\n",
    "    \"leraning\":\"coding\",\n",
    "    \"age\":24\n",
    "    }\n",
    "print(info[\"name\"])\n",
    "print(info['age'])\n",
    "info[\"surname\"]=\"havals\"\n",
    "print(info[\"surname\"])\n",
    "print(info)\n"
   ]
  },
  {
   "cell_type": "code",
   "execution_count": 16,
   "id": "05efcfa1",
   "metadata": {},
   "outputs": [
    {
     "name": "stdout",
     "output_type": "stream",
     "text": [
      "{}\n",
      "{'name': 'abhishek havale', 'leraning': 'coding', 'subject': {'phy': 97, 'chem': 98, 'maths': 89}}\n"
     ]
    }
   ],
   "source": [
    "#null_dist\n",
    "null_dist={}\n",
    "print(null_dist)\n",
    "\n",
    "#nested Dist\n",
    "student={\n",
    "    \"name\":\"abhishek havale\",\n",
    "    \"leraning\":\"coding\",\n",
    "    \"subject\":{\n",
    "        \"phy\":97,\n",
    "        \"chem\":98,\n",
    "        \"maths\":89\n",
    "    }\n",
    "}\n",
    "print(student)"
   ]
  },
  {
   "cell_type": "code",
   "execution_count": 20,
   "id": "63e843a1",
   "metadata": {},
   "outputs": [
    {
     "name": "stdout",
     "output_type": "stream",
     "text": [
      "dict_keys(['name', 'leraning', 'subject'])\n",
      "['name', 'leraning', 'subject']\n",
      "3\n"
     ]
    }
   ],
   "source": [
    "#Dist methpod\n",
    "student={\n",
    "    \"name\":\"abhishek havale\",\n",
    "    \"leraning\":\"coding\",\n",
    "    \"subject\":{\n",
    "        \"phy\":97,\n",
    "        \"chem\":98,\n",
    "        \"maths\":89\n",
    "    }\n",
    "}\n",
    "print(student.keys())#student.keys() method using\n",
    "print(list(student.keys()))#convert in list\n",
    "print(len(list(student.keys())))#len taken of keys "
   ]
  },
  {
   "cell_type": "code",
   "execution_count": 26,
   "id": "493c286e",
   "metadata": {},
   "outputs": [
    {
     "name": "stdout",
     "output_type": "stream",
     "text": [
      "abhishek havale\n",
      "abhishek havale\n"
     ]
    }
   ],
   "source": [
    "student={\n",
    "    \"name\":\"abhishek havale\",\n",
    "    \"leraning\":\"coding\",\n",
    "    \"subject\":{\n",
    "        \"phy\":97,\n",
    "        \"chem\":98,\n",
    "        \"maths\":89\n",
    "    }\n",
    "}\n",
    "print(student[\"name\"])\n",
    "print(student.get(\"name\"))"
   ]
  },
  {
   "cell_type": "code",
   "execution_count": 27,
   "id": "b86b5a20",
   "metadata": {},
   "outputs": [
    {
     "ename": "KeyError",
     "evalue": "'name2'",
     "output_type": "error",
     "traceback": [
      "\u001b[1;31m---------------------------------------------------------------------------\u001b[0m",
      "\u001b[1;31mKeyError\u001b[0m                                  Traceback (most recent call last)",
      "Cell \u001b[1;32mIn[27], line 10\u001b[0m\n\u001b[0;32m      1\u001b[0m student\u001b[38;5;241m=\u001b[39m{\n\u001b[0;32m      2\u001b[0m     \u001b[38;5;124m\"\u001b[39m\u001b[38;5;124mname\u001b[39m\u001b[38;5;124m\"\u001b[39m:\u001b[38;5;124m\"\u001b[39m\u001b[38;5;124mabhishek havale\u001b[39m\u001b[38;5;124m\"\u001b[39m,\n\u001b[0;32m      3\u001b[0m     \u001b[38;5;124m\"\u001b[39m\u001b[38;5;124mleraning\u001b[39m\u001b[38;5;124m\"\u001b[39m:\u001b[38;5;124m\"\u001b[39m\u001b[38;5;124mcoding\u001b[39m\u001b[38;5;124m\"\u001b[39m,\n\u001b[1;32m   (...)\u001b[0m\n\u001b[0;32m      8\u001b[0m     }\n\u001b[0;32m      9\u001b[0m }\n\u001b[1;32m---> 10\u001b[0m \u001b[38;5;28mprint\u001b[39m(student[\u001b[38;5;124m\"\u001b[39m\u001b[38;5;124mname2\u001b[39m\u001b[38;5;124m\"\u001b[39m])\n\u001b[0;32m     11\u001b[0m \u001b[38;5;28mprint\u001b[39m(student\u001b[38;5;241m.\u001b[39mget(\u001b[38;5;124m\"\u001b[39m\u001b[38;5;124mname\u001b[39m\u001b[38;5;124m\"\u001b[39m))\n",
      "\u001b[1;31mKeyError\u001b[0m: 'name2'"
     ]
    }
   ],
   "source": [
    "student={\n",
    "    \"name\":\"abhishek havale\",\n",
    "    \"leraning\":\"coding\",\n",
    "    \"subject\":{\n",
    "        \"phy\":97,\n",
    "        \"chem\":98,\n",
    "        \"maths\":89\n",
    "    }\n",
    "}\n",
    "print(student[\"name2\"])#error found\n",
    "print(student.get(\"name\"))"
   ]
  },
  {
   "cell_type": "code",
   "execution_count": 28,
   "id": "c39b504c",
   "metadata": {},
   "outputs": [
    {
     "name": "stdout",
     "output_type": "stream",
     "text": [
      "abhishek havale\n",
      "None\n"
     ]
    }
   ],
   "source": [
    "student={\n",
    "    \"name\":\"abhishek havale\",\n",
    "    \"leraning\":\"coding\",\n",
    "    \"subject\":{\n",
    "        \"phy\":97,\n",
    "        \"chem\":98,\n",
    "        \"maths\":89\n",
    "    }\n",
    "}\n",
    "print(student[\"name\"])\n",
    "print(student.get(\"name2\"))#no error found"
   ]
  },
  {
   "cell_type": "code",
   "execution_count": null,
   "id": "1fadc363",
   "metadata": {},
   "outputs": [],
   "source": [
    "#set in python\n",
    "#set is the collection of unorderd item\n",
    "#each element inthe set must be unique and immutable\n",
    "num={1,2,3,4}\n",
    "set1={1,2,2,2,2}\n",
    "#repeated elemnt stored only once so it resoved to{1,2}.\n",
    "null_set=set()#empty set synex\n",
    "set is mutable\n",
    "set - element-is immutable\n",
    "unhashable type error\n",
    "unshable means if any value change in future means that mutable value .\n",
    "set.pop #which remove random value\n"
   ]
  },
  {
   "cell_type": "code",
   "execution_count": 35,
   "id": "fac076c1",
   "metadata": {},
   "outputs": [
    {
     "name": "stdout",
     "output_type": "stream",
     "text": [
      "{1, 2, 3, 4, 'anish', 65, '98', 'abhi'}\n",
      "<class 'set'>\n"
     ]
    }
   ],
   "source": [
    "num={1,2,3,4,\"anish\",\"abhi\",\"98\",65}\n",
    "print(num)\n",
    "print(type(num))"
   ]
  },
  {
   "cell_type": "code",
   "execution_count": 38,
   "id": "8f43c2c5",
   "metadata": {},
   "outputs": [
    {
     "name": "stdout",
     "output_type": "stream",
     "text": [
      "{3, 4, 5}\n"
     ]
    }
   ],
   "source": [
    "#set.union\n",
    "set1={1,2,3}\n",
    "set2={3,4,5}\n",
    "print(set.union(set2))"
   ]
  },
  {
   "cell_type": "code",
   "execution_count": 39,
   "id": "3c3b0c21",
   "metadata": {},
   "outputs": [
    {
     "name": "stdout",
     "output_type": "stream",
     "text": [
      "{3, 4, 5}\n"
     ]
    }
   ],
   "source": [
    "set1={1,2,3}\n",
    "set2={3,4,5}\n",
    "print(set.intersection(set2))"
   ]
  },
  {
   "cell_type": "code",
   "execution_count": 41,
   "id": "eff567bf",
   "metadata": {},
   "outputs": [
    {
     "name": "stdout",
     "output_type": "stream",
     "text": [
      "{'c++', 'c', 'python', 'java', 'javascript'}\n",
      "5\n"
     ]
    }
   ],
   "source": [
    "#you are given list of subject for students .Assume one classsrom is requiedfor 1 subject.how many classroom are needed by all student\n",
    "subject={\n",
    "    \"python\",\"java\",\"c++\",\"python\",\"javascript\",\"java\",\"python\",\"java\",\"c++\",\"c\"\n",
    "}\n",
    "print(subject)\n",
    "print(len(subject))"
   ]
  },
  {
   "cell_type": "code",
   "execution_count": 42,
   "id": "d5cf9259",
   "metadata": {},
   "outputs": [
    {
     "name": "stdout",
     "output_type": "stream",
     "text": [
      "enter phy mark:87\n",
      "enter chhem mark:98\n",
      "enter maths mark:56\n",
      "{'phy': 87, 'chem': 98, 'maths': 56}\n"
     ]
    }
   ],
   "source": [
    "#wap to enter marks of 3 subject from the user and store them in a dictionary.start with an emty dictionary and add one by one. use subject name as key and marks as value\n",
    "marks={}\n",
    "a=int(input(\"enter phy mark:\"))\n",
    "marks.update({\"phy\":a})\n",
    "\n",
    "a=int(input(\"enter chhem mark:\"))\n",
    "marks.update({\"chem\":a})\n",
    "\n",
    "a=int(input(\"enter maths mark:\"))\n",
    "marks.update({\"maths\":a})\n",
    "print(marks)"
   ]
  },
  {
   "cell_type": "markdown",
   "id": "1c9d1207",
   "metadata": {},
   "source": [
    "# chapter 5\n",
    "    #loops in python\n",
    "    "
   ]
  },
  {
   "cell_type": "code",
   "execution_count": null,
   "id": "986a9329",
   "metadata": {},
   "outputs": [],
   "source": [
    "#loops are used to reapeat instruction\n",
    "while loops\n",
    "for loops\n",
    "while condition:\n",
    "    #some work"
   ]
  },
  {
   "cell_type": "code",
   "execution_count": 2,
   "id": "1d0f3778",
   "metadata": {},
   "outputs": [
    {
     "name": "stdout",
     "output_type": "stream",
     "text": [
      "0\n",
      "1\n",
      "2\n",
      "4\n",
      "5\n"
     ]
    }
   ],
   "source": [
    "i=0\n",
    "while i<=5:\n",
    "    if(i==3):\n",
    "        i+=1\n",
    "        continue\n",
    "    print(i)\n",
    "    i+=1"
   ]
  },
  {
   "cell_type": "code",
   "execution_count": 4,
   "id": "fcc15025",
   "metadata": {},
   "outputs": [
    {
     "name": "stdout",
     "output_type": "stream",
     "text": [
      "1\n",
      "3\n",
      "5\n",
      "7\n",
      "9\n"
     ]
    }
   ],
   "source": [
    "i=0\n",
    "while i<=10:\n",
    "    if(i%2==0):\n",
    "        i+=1\n",
    "        continue\n",
    "    print(i)\n",
    "    i+=1"
   ]
  },
  {
   "cell_type": "code",
   "execution_count": 5,
   "id": "754c3f10",
   "metadata": {},
   "outputs": [
    {
     "name": "stdout",
     "output_type": "stream",
     "text": [
      "0\n",
      "2\n",
      "4\n",
      "6\n",
      "8\n",
      "10\n"
     ]
    }
   ],
   "source": [
    "i=0\n",
    "while i<=10:\n",
    "    if(i%2!=0):\n",
    "        i+=1\n",
    "        continue\n",
    "    print(i)\n",
    "    i+=1"
   ]
  },
  {
   "cell_type": "code",
   "execution_count": null,
   "id": "efee5c91",
   "metadata": {},
   "outputs": [],
   "source": [
    "loop in python\n",
    "for loop used for sequential traversal.for traversing list,string, tuple etc\n",
    "for el in list:#el-element\n",
    "    #some work"
   ]
  },
  {
   "cell_type": "code",
   "execution_count": 7,
   "id": "c986b662",
   "metadata": {},
   "outputs": [
    {
     "name": "stdout",
     "output_type": "stream",
     "text": [
      "1\n",
      "2\n",
      "3\n",
      "4\n",
      "5\n"
     ]
    }
   ],
   "source": [
    "nums=[1,2,3,4,5]\n",
    "for val in nums:\n",
    "    print(val)"
   ]
  },
  {
   "cell_type": "code",
   "execution_count": null,
   "id": "6bbffdd0",
   "metadata": {},
   "outputs": [],
   "source": []
  }
 ],
 "metadata": {
  "kernelspec": {
   "display_name": "Python 3 (ipykernel)",
   "language": "python",
   "name": "python3"
  },
  "language_info": {
   "codemirror_mode": {
    "name": "ipython",
    "version": 3
   },
   "file_extension": ".py",
   "mimetype": "text/x-python",
   "name": "python",
   "nbconvert_exporter": "python",
   "pygments_lexer": "ipython3",
   "version": "3.11.4"
  }
 },
 "nbformat": 4,
 "nbformat_minor": 5
}
